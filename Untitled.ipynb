{
 "cells": [
  {
   "cell_type": "code",
   "execution_count": 14,
   "metadata": {},
   "outputs": [],
   "source": [
    "import io\n",
    "import os\n",
    "\n",
    "import boto3\n",
    "import PyPDF2"
   ]
  },
  {
   "cell_type": "code",
   "execution_count": 2,
   "metadata": {},
   "outputs": [],
   "source": [
    "contracts_folder = 'data/contracts'"
   ]
  },
  {
   "cell_type": "code",
   "execution_count": 3,
   "metadata": {},
   "outputs": [],
   "source": [
    "document = None\n",
    "for i in os.listdir(contracts_folder):\n",
    "    document = os.path.join(contracts_folder, i)\n",
    "    break"
   ]
  },
  {
   "cell_type": "code",
   "execution_count": 19,
   "metadata": {},
   "outputs": [],
   "source": [
    "pdf_file = open(document, mode='rb')\n",
    "read_pdf = PyPDF2.PdfFileReader(pdf_file)"
   ]
  },
  {
   "cell_type": "code",
   "execution_count": 24,
   "metadata": {},
   "outputs": [],
   "source": [
    "page = read_pdf.getPage(0)\n",
    "page_content = page.extractText()"
   ]
  },
  {
   "cell_type": "code",
   "execution_count": null,
   "metadata": {},
   "outputs": [],
   "source": []
  },
  {
   "cell_type": "code",
   "execution_count": null,
   "metadata": {},
   "outputs": [],
   "source": []
  },
  {
   "cell_type": "code",
   "execution_count": 22,
   "metadata": {},
   "outputs": [],
   "source": [
    "client = boto3.client('textract')"
   ]
  },
  {
   "cell_type": "code",
   "execution_count": 26,
   "metadata": {},
   "outputs": [
    {
     "ename": "InvalidParameterException",
     "evalue": "An error occurred (InvalidParameterException) when calling the DetectDocumentText operation: Request has invalid parameters",
     "output_type": "error",
     "traceback": [
      "\u001b[1;31m---------------------------------------------------------------------------\u001b[0m",
      "\u001b[1;31mInvalidParameterException\u001b[0m                 Traceback (most recent call last)",
      "\u001b[1;32m<ipython-input-26-103dc77421b0>\u001b[0m in \u001b[0;36m<module>\u001b[1;34m\u001b[0m\n\u001b[1;32m----> 1\u001b[1;33m \u001b[0mresponse\u001b[0m \u001b[1;33m=\u001b[0m \u001b[0mclient\u001b[0m\u001b[1;33m.\u001b[0m\u001b[0mdetect_document_text\u001b[0m\u001b[1;33m(\u001b[0m\u001b[0mDocument\u001b[0m\u001b[1;33m=\u001b[0m\u001b[1;33m{\u001b[0m\u001b[1;34m'Bytes'\u001b[0m\u001b[1;33m:\u001b[0m \u001b[0mpage_content\u001b[0m\u001b[1;33m}\u001b[0m\u001b[1;33m)\u001b[0m\u001b[1;33m\u001b[0m\u001b[1;33m\u001b[0m\u001b[0m\n\u001b[0m",
      "\u001b[1;32mc:\\users\\57301\\documents\\ds4a\\group_project\\ds4a_application\\venv\\lib\\site-packages\\botocore\\client.py\u001b[0m in \u001b[0;36m_api_call\u001b[1;34m(self, *args, **kwargs)\u001b[0m\n\u001b[0;32m    355\u001b[0m                     \"%s() only accepts keyword arguments.\" % py_operation_name)\n\u001b[0;32m    356\u001b[0m             \u001b[1;31m# The \"self\" in this scope is referring to the BaseClient.\u001b[0m\u001b[1;33m\u001b[0m\u001b[1;33m\u001b[0m\u001b[1;33m\u001b[0m\u001b[0m\n\u001b[1;32m--> 357\u001b[1;33m             \u001b[1;32mreturn\u001b[0m \u001b[0mself\u001b[0m\u001b[1;33m.\u001b[0m\u001b[0m_make_api_call\u001b[0m\u001b[1;33m(\u001b[0m\u001b[0moperation_name\u001b[0m\u001b[1;33m,\u001b[0m \u001b[0mkwargs\u001b[0m\u001b[1;33m)\u001b[0m\u001b[1;33m\u001b[0m\u001b[1;33m\u001b[0m\u001b[0m\n\u001b[0m\u001b[0;32m    358\u001b[0m \u001b[1;33m\u001b[0m\u001b[0m\n\u001b[0;32m    359\u001b[0m         \u001b[0m_api_call\u001b[0m\u001b[1;33m.\u001b[0m\u001b[0m__name__\u001b[0m \u001b[1;33m=\u001b[0m \u001b[0mstr\u001b[0m\u001b[1;33m(\u001b[0m\u001b[0mpy_operation_name\u001b[0m\u001b[1;33m)\u001b[0m\u001b[1;33m\u001b[0m\u001b[1;33m\u001b[0m\u001b[0m\n",
      "\u001b[1;32mc:\\users\\57301\\documents\\ds4a\\group_project\\ds4a_application\\venv\\lib\\site-packages\\botocore\\client.py\u001b[0m in \u001b[0;36m_make_api_call\u001b[1;34m(self, operation_name, api_params)\u001b[0m\n\u001b[0;32m    674\u001b[0m             \u001b[0merror_code\u001b[0m \u001b[1;33m=\u001b[0m \u001b[0mparsed_response\u001b[0m\u001b[1;33m.\u001b[0m\u001b[0mget\u001b[0m\u001b[1;33m(\u001b[0m\u001b[1;34m\"Error\"\u001b[0m\u001b[1;33m,\u001b[0m \u001b[1;33m{\u001b[0m\u001b[1;33m}\u001b[0m\u001b[1;33m)\u001b[0m\u001b[1;33m.\u001b[0m\u001b[0mget\u001b[0m\u001b[1;33m(\u001b[0m\u001b[1;34m\"Code\"\u001b[0m\u001b[1;33m)\u001b[0m\u001b[1;33m\u001b[0m\u001b[1;33m\u001b[0m\u001b[0m\n\u001b[0;32m    675\u001b[0m             \u001b[0merror_class\u001b[0m \u001b[1;33m=\u001b[0m \u001b[0mself\u001b[0m\u001b[1;33m.\u001b[0m\u001b[0mexceptions\u001b[0m\u001b[1;33m.\u001b[0m\u001b[0mfrom_code\u001b[0m\u001b[1;33m(\u001b[0m\u001b[0merror_code\u001b[0m\u001b[1;33m)\u001b[0m\u001b[1;33m\u001b[0m\u001b[1;33m\u001b[0m\u001b[0m\n\u001b[1;32m--> 676\u001b[1;33m             \u001b[1;32mraise\u001b[0m \u001b[0merror_class\u001b[0m\u001b[1;33m(\u001b[0m\u001b[0mparsed_response\u001b[0m\u001b[1;33m,\u001b[0m \u001b[0moperation_name\u001b[0m\u001b[1;33m)\u001b[0m\u001b[1;33m\u001b[0m\u001b[1;33m\u001b[0m\u001b[0m\n\u001b[0m\u001b[0;32m    677\u001b[0m         \u001b[1;32melse\u001b[0m\u001b[1;33m:\u001b[0m\u001b[1;33m\u001b[0m\u001b[1;33m\u001b[0m\u001b[0m\n\u001b[0;32m    678\u001b[0m             \u001b[1;32mreturn\u001b[0m \u001b[0mparsed_response\u001b[0m\u001b[1;33m\u001b[0m\u001b[1;33m\u001b[0m\u001b[0m\n",
      "\u001b[1;31mInvalidParameterException\u001b[0m: An error occurred (InvalidParameterException) when calling the DetectDocumentText operation: Request has invalid parameters"
     ]
    }
   ],
   "source": [
    "response = client.detect_document_text(Document={'Bytes': page_content})"
   ]
  },
  {
   "cell_type": "code",
   "execution_count": null,
   "metadata": {},
   "outputs": [],
   "source": []
  },
  {
   "cell_type": "code",
   "execution_count": null,
   "metadata": {},
   "outputs": [],
   "source": []
  },
  {
   "cell_type": "code",
   "execution_count": 2,
   "metadata": {},
   "outputs": [
    {
     "ename": "ModuleNotFoundError",
     "evalue": "No module named 'PIL'",
     "output_type": "error",
     "traceback": [
      "\u001b[1;31m---------------------------------------------------------------------------\u001b[0m",
      "\u001b[1;31mModuleNotFoundError\u001b[0m                       Traceback (most recent call last)",
      "\u001b[1;32m<ipython-input-2-510dae8357ec>\u001b[0m in \u001b[0;36m<module>\u001b[1;34m\u001b[0m\n\u001b[0;32m      9\u001b[0m \u001b[1;33m\u001b[0m\u001b[0m\n\u001b[0;32m     10\u001b[0m \u001b[1;32mimport\u001b[0m \u001b[0mmath\u001b[0m\u001b[1;33m\u001b[0m\u001b[1;33m\u001b[0m\u001b[0m\n\u001b[1;32m---> 11\u001b[1;33m \u001b[1;32mfrom\u001b[0m \u001b[0mPIL\u001b[0m \u001b[1;32mimport\u001b[0m \u001b[0mImage\u001b[0m\u001b[1;33m,\u001b[0m \u001b[0mImageDraw\u001b[0m\u001b[1;33m,\u001b[0m \u001b[0mImageFont\u001b[0m\u001b[1;33m\u001b[0m\u001b[1;33m\u001b[0m\u001b[0m\n\u001b[0m\u001b[0;32m     12\u001b[0m \u001b[1;33m\u001b[0m\u001b[0m\n\u001b[0;32m     13\u001b[0m \u001b[1;33m\u001b[0m\u001b[0m\n",
      "\u001b[1;31mModuleNotFoundError\u001b[0m: No module named 'PIL'"
     ]
    }
   ],
   "source": [
    "#Detects text in a document stored in an S3 bucket. Display polygon box around text and angled text \n",
    "import boto3\n",
    "import io\n",
    "from io import BytesIO\n",
    "import sys\n",
    "\n",
    "# import psutil\n",
    "import time\n",
    "\n",
    "import math\n",
    "from PIL import Image, ImageDraw, ImageFont\n",
    "\n",
    "\n",
    "# Displays information about a block returned by text detection and text analysis\n",
    "def DisplayBlockInformation(block):\n",
    "    print('Id: {}'.format(block['Id']))\n",
    "    if 'Text' in block:\n",
    "        print('    Detected: ' + block['Text'])\n",
    "    print('    Type: ' + block['BlockType'])\n",
    "   \n",
    "    if 'Confidence' in block:\n",
    "        print('    Confidence: ' + \"{:.2f}\".format(block['Confidence']) + \"%\")\n",
    "\n",
    "    if block['BlockType'] == 'CELL':\n",
    "        print(\"    Cell information\")\n",
    "        print(\"        Column:\" + str(block['ColumnIndex']))\n",
    "        print(\"        Row:\" + str(block['RowIndex']))\n",
    "        print(\"        Column Span:\" + str(block['ColumnSpan']))\n",
    "        print(\"        RowSpan:\" + str(block['ColumnSpan']))    \n",
    "    \n",
    "    if 'Relationships' in block:\n",
    "        print('    Relationships: {}'.format(block['Relationships']))\n",
    "    print('    Geometry: ')\n",
    "    print('        Bounding Box: {}'.format(block['Geometry']['BoundingBox']))\n",
    "    print('        Polygon: {}'.format(block['Geometry']['Polygon']))\n",
    "    \n",
    "    if block['BlockType'] == \"KEY_VALUE_SET\":\n",
    "        print ('    Entity Type: ' + block['EntityTypes'][0])\n",
    "    if 'Page' in block:\n",
    "        print('Page: ' + block['Page'])\n",
    "    print()\n",
    "\n",
    "def process_text_detection(bucket, document):\n",
    "\n",
    "    \n",
    "    #Get the document from S3\n",
    "    s3_connection = boto3.resource('s3')\n",
    "                          \n",
    "    s3_object = s3_connection.Object(bucket,document)\n",
    "    s3_response = s3_object.get()\n",
    "\n",
    "    stream = io.BytesIO(s3_response['Body'].read())\n",
    "    image=Image.open(stream)\n",
    "\n",
    "   \n",
    "    # Detect text in the document\n",
    "    \n",
    "    client = boto3.client('textract')\n",
    "    #process using image bytes                      \n",
    "    #image_binary = stream.getvalue()\n",
    "    #response = client.detect_document_text(Document={'Bytes': image_binary})\n",
    "\n",
    "    #process using S3 object\n",
    "    response = client.detect_document_text(\n",
    "        Document={'S3Object': {'Bucket': bucket, 'Name': document}})\n",
    "\n",
    "    #Get the text blocks\n",
    "    blocks=response['Blocks']\n",
    "    width, height =image.size  \n",
    "    draw = ImageDraw.Draw(image)  \n",
    "    print ('Detected Document Text')\n",
    "   \n",
    "    # Create image showing bounding box/polygon the detected lines/text\n",
    "    for block in blocks:\n",
    "            print('Type: ' + block['BlockType'])\n",
    "            if block['BlockType'] != 'PAGE':\n",
    "                print('Detected: ' + block['Text'])\n",
    "                print('Confidence: ' + \"{:.2f}\".format(block['Confidence']) + \"%\")\n",
    "\n",
    "            print('Id: {}'.format(block['Id']))\n",
    "            if 'Relationships' in block:\n",
    "                print('Relationships: {}'.format(block['Relationships']))\n",
    "            print('Bounding Box: {}'.format(block['Geometry']['BoundingBox']))\n",
    "            print('Polygon: {}'.format(block['Geometry']['Polygon']))\n",
    "            print()\n",
    "            draw=ImageDraw.Draw(image)\n",
    "            # Draw WORD - Green -  start of word, red - end of word\n",
    "            if block['BlockType'] == \"WORD\":\n",
    "                draw.line([(width * block['Geometry']['Polygon'][0]['X'],\n",
    "                height * block['Geometry']['Polygon'][0]['Y']),\n",
    "                (width * block['Geometry']['Polygon'][3]['X'],\n",
    "                height * block['Geometry']['Polygon'][3]['Y'])],fill='green',\n",
    "                width=2)\n",
    "            \n",
    "                draw.line([(width * block['Geometry']['Polygon'][1]['X'],\n",
    "                height * block['Geometry']['Polygon'][1]['Y']),\n",
    "                (width * block['Geometry']['Polygon'][2]['X'],\n",
    "                height * block['Geometry']['Polygon'][2]['Y'])],\n",
    "                fill='red',\n",
    "                width=2)    \n",
    "\n",
    "                 \n",
    "            # Draw box around entire LINE  \n",
    "            if block['BlockType'] == \"LINE\":\n",
    "                points=[]\n",
    "\n",
    "                for polygon in block['Geometry']['Polygon']:\n",
    "                    points.append((width * polygon['X'], height * polygon['Y']))\n",
    "\n",
    "                draw.polygon((points), outline='black')    \n",
    "  \n",
    "                # Uncomment to draw bounding box\n",
    "                #box=block['Geometry']['BoundingBox']                    \n",
    "                #left = width * box['Left']\n",
    "                #top = height * box['Top']           \n",
    "                #draw.rectangle([left,top, left + (width * box['Width']), top +(height * box['Height'])],outline='black') \n",
    "\n",
    "\n",
    "    # Display the image\n",
    "    image.show()\n",
    "    # display image for 10 seconds\n",
    "\n",
    "    \n",
    "    return len(blocks)\n",
    "\n",
    "def main():\n",
    "\n",
    "    bucket = ''\n",
    "    document = ''\n",
    "    block_count=process_text_detection(bucket,document)\n",
    "    print(\"Blocks detected: \" + str(block_count))\n",
    "    \n",
    "if __name__ == \"__main__\":\n",
    "    main()"
   ]
  },
  {
   "cell_type": "code",
   "execution_count": null,
   "metadata": {},
   "outputs": [],
   "source": []
  }
 ],
 "metadata": {
  "kernelspec": {
   "display_name": "Python 3",
   "language": "python",
   "name": "python3"
  },
  "language_info": {
   "codemirror_mode": {
    "name": "ipython",
    "version": 3
   },
   "file_extension": ".py",
   "mimetype": "text/x-python",
   "name": "python",
   "nbconvert_exporter": "python",
   "pygments_lexer": "ipython3",
   "version": "3.8.5"
  }
 },
 "nbformat": 4,
 "nbformat_minor": 4
}
